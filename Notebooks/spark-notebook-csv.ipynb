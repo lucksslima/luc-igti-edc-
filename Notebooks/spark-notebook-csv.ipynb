{
 "cells": [
  {
   "cell_type": "code",
   "execution_count": 2,
   "source": [
    "from pyspark.sql import SparkSession\n",
    "from pyspark.sql.functions import *\n",
    "import pandas as pd"
   ],
   "outputs": [],
   "metadata": {}
  },
  {
   "cell_type": "code",
   "execution_count": 3,
   "source": [
    "if __name__ == \"__main__\":\n",
    "    spark = (SparkSession.builder\n",
    "             .master(\"local[3]\")\n",
    "             .appName(\"pyspark-csv-notebook\")\n",
    "             .getOrCreate())\n",
    "\n",
    "    "
   ],
   "outputs": [
    {
     "output_type": "stream",
     "name": "stderr",
     "text": [
      "21/08/23 15:36:16 WARN Utils: Your hostname, lucas-ubuntu resolves to a loopback address: 127.0.1.1; using 192.168.11.70 instead (on interface wlp3s0)\n",
      "21/08/23 15:36:16 WARN Utils: Set SPARK_LOCAL_IP if you need to bind to another address\n",
      "21/08/23 15:36:19 WARN NativeCodeLoader: Unable to load native-hadoop library for your platform... using builtin-java classes where applicable\n",
      "Using Spark's default log4j profile: org/apache/spark/log4j-defaults.properties\n",
      "Setting default log level to \"WARN\".\n",
      "To adjust logging level use sc.setLogLevel(newLevel). For SparkR, use setLogLevel(newLevel).\n",
      "21/08/23 15:36:22 WARN Utils: Service 'SparkUI' could not bind on port 4040. Attempting port 4041.\n"
     ]
    }
   ],
   "metadata": {
    "scrolled": true
   }
  },
  {
   "cell_type": "code",
   "execution_count": 4,
   "source": [
    "    \n",
    "    query = \"(SELECT DTMOV, CODPROD, NUMNOTA, QT, PUNIT, CODFILIAL, CODCLI FROM NORDIL.PCMOV p2  WHERE DTMOV > TO_DATE('17/08/2021','DD/MM/YYYY'))\"\n",
    "\n",
    "    df = (spark\n",
    "          .read\n",
    "          .format(\"jdbc\")\n",
    "          .option(\"url\", \"jdbc:oracle:thin:@192.168.8.2:1521:WTNDJP\")\n",
    "          .option(\"dbtable\",query)\n",
    "          .option(\"user\",\"biviews\")\n",
    "          .option(\"password\",\"BI7789x3\")\n",
    "          .option(\"driver\",\"oracle.jdbc.driver.OracleDriver\")).load()\n",
    "    spark.conf.set(\"spark.sql.execution.arrow.pyspark.enabled\", \"true\")\n",
    "    spark.conf.set(\"spark.sql.debug.maxToStringFields\", 10000)"
   ],
   "outputs": [],
   "metadata": {}
  },
  {
   "cell_type": "code",
   "execution_count": 5,
   "source": [
    "df.select(col(\"DTMOV\"),col(\"CODPROD\")).show()"
   ],
   "outputs": [
    {
     "output_type": "stream",
     "name": "stderr",
     "text": []
    },
    {
     "output_type": "stream",
     "name": "stdout",
     "text": [
      "+-------------------+-------+\n",
      "|              DTMOV|CODPROD|\n",
      "+-------------------+-------+\n",
      "|2021-08-18 00:00:00|  50990|\n",
      "|2021-08-18 00:00:00|  50302|\n",
      "|2021-08-18 00:00:00| 147994|\n",
      "|2021-08-18 00:00:00| 119088|\n",
      "|2021-08-18 00:00:00|  71032|\n",
      "|2021-08-18 00:00:00| 132795|\n",
      "|2021-08-18 00:00:00| 191363|\n",
      "|2021-08-18 00:00:00| 127654|\n",
      "|2021-08-18 00:00:00| 146218|\n",
      "|2021-08-18 00:00:00| 146224|\n",
      "|2021-08-18 00:00:00| 191853|\n",
      "|2021-08-18 00:00:00| 191860|\n",
      "|2021-08-18 00:00:00|  50368|\n",
      "|2021-08-18 00:00:00|  50417|\n",
      "|2021-08-18 00:00:00|  50429|\n",
      "|2021-08-18 00:00:00|  71528|\n",
      "|2021-08-18 00:00:00|  71032|\n",
      "|2021-08-18 00:00:00| 132795|\n",
      "|2021-08-18 00:00:00| 130557|\n",
      "|2021-08-18 00:00:00|  50499|\n",
      "+-------------------+-------+\n",
      "only showing top 20 rows\n",
      "\n"
     ]
    },
    {
     "output_type": "stream",
     "name": "stderr",
     "text": []
    }
   ],
   "metadata": {}
  },
  {
   "cell_type": "code",
   "execution_count": 6,
   "source": [
    "(\n",
    "        df\n",
    "        .write\n",
    "        .mode(\"overwrite\")\n",
    "        .format(\"csv\")\n",
    "        .option(\"timestampFormat\",'dd-MM-yyyy')\n",
    "        .option(\"header\", True)\n",
    "        .save(\"/home/lucksslima/Downloads/csv\")\n",
    " )"
   ],
   "outputs": [
    {
     "output_type": "stream",
     "name": "stderr",
     "text": [
      "                                                                                \r"
     ]
    }
   ],
   "metadata": {
    "scrolled": true
   }
  },
  {
   "cell_type": "code",
   "execution_count": null,
   "source": [],
   "outputs": [],
   "metadata": {}
  },
  {
   "cell_type": "code",
   "execution_count": null,
   "source": [],
   "outputs": [],
   "metadata": {}
  },
  {
   "cell_type": "code",
   "execution_count": null,
   "source": [],
   "outputs": [],
   "metadata": {}
  }
 ],
 "metadata": {
  "kernelspec": {
   "name": "python3",
   "display_name": "Python 3.8.10 64-bit ('venv': venv)"
  },
  "language_info": {
   "codemirror_mode": {
    "name": "ipython",
    "version": 3
   },
   "file_extension": ".py",
   "mimetype": "text/x-python",
   "name": "python",
   "nbconvert_exporter": "python",
   "pygments_lexer": "ipython3",
   "version": "3.8.10"
  },
  "interpreter": {
   "hash": "f0bd625ebacb143a4b761232c2dcbf1e1a29257545afbf083354b4b34e83cb90"
  }
 },
 "nbformat": 4,
 "nbformat_minor": 2
}